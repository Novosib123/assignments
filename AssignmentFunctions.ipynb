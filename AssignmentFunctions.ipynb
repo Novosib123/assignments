{
 "cells": [
  {
   "cell_type": "markdown",
   "id": "72308463-8b49-4fd1-9b39-d8bd58984064",
   "metadata": {},
   "source": [
    "## Q1"
   ]
  },
  {
   "cell_type": "code",
   "execution_count": 1,
   "id": "905b8a6e-7b4b-42a1-8bdd-348a0ee4a017",
   "metadata": {},
   "outputs": [],
   "source": [
    "num_range = range(1,26)"
   ]
  },
  {
   "cell_type": "code",
   "execution_count": 4,
   "id": "5ce428cb-025c-4319-9111-3762a3b23746",
   "metadata": {},
   "outputs": [],
   "source": [
    "def odd_num_filter(rng):\n",
    "    odd_nums = []\n",
    "    for i in rng:\n",
    "        if i % 2 > 0:\n",
    "            odd_nums.append(i)\n",
    "    return odd_nums        \n",
    "        "
   ]
  },
  {
   "cell_type": "code",
   "execution_count": 5,
   "id": "61f11bb2-6b05-4ef8-b6dd-5a7a5d138ebd",
   "metadata": {},
   "outputs": [
    {
     "data": {
      "text/plain": [
       "[1, 3, 5, 7, 9, 11, 13, 15, 17, 19, 21, 23, 25]"
      ]
     },
     "execution_count": 5,
     "metadata": {},
     "output_type": "execute_result"
    }
   ],
   "source": [
    "odd_num_filter(num_range)"
   ]
  },
  {
   "cell_type": "markdown",
   "id": "14503d33-c07f-4b9b-ab85-548a74cf08ac",
   "metadata": {},
   "source": [
    "## Q2"
   ]
  },
  {
   "cell_type": "code",
   "execution_count": 9,
   "id": "cfa35375-530d-4667-83a0-7d031fc311a8",
   "metadata": {},
   "outputs": [],
   "source": [
    "def sum(*num):\n",
    "    mysum = 0\n",
    "    for n in num:\n",
    "        mysum = mysum + n\n",
    "    return mysum    "
   ]
  },
  {
   "cell_type": "code",
   "execution_count": 10,
   "id": "26e7feda-db0e-4c77-82c5-0ab128f7ec92",
   "metadata": {},
   "outputs": [
    {
     "data": {
      "text/plain": [
       "16.7"
      ]
     },
     "execution_count": 10,
     "metadata": {},
     "output_type": "execute_result"
    }
   ],
   "source": [
    "sum(2,5,3.5,6.2)"
   ]
  },
  {
   "cell_type": "code",
   "execution_count": 13,
   "id": "82ba6ad4-c454-4c59-aaba-485f038dec50",
   "metadata": {},
   "outputs": [],
   "source": [
    "def introduction(**inputdata):\n",
    "    print(\"\\nData type of argument:\", type(inputdata))\n",
    "    for key, value in inputdata.items():\n",
    "        print(\"{} is {}\".format(key,value))\n",
    "        "
   ]
  },
  {
   "cell_type": "code",
   "execution_count": 14,
   "id": "bafdddc9-5cae-4909-b511-84958f211169",
   "metadata": {},
   "outputs": [
    {
     "name": "stdout",
     "output_type": "stream",
     "text": [
      "\n",
      "Data type of argument: <class 'dict'>\n",
      "Firstname is Test\n",
      "Lastname is Student\n",
      "\n",
      "Data type of argument: <class 'dict'>\n",
      "Firstname is Igor\n",
      "Lastname is Nakrychsky\n",
      "Email is novosib@hotmail.com\n",
      "Country is USA\n"
     ]
    }
   ],
   "source": [
    "introduction(Firstname=\"Test\", Lastname=\"Student\")\n",
    "introduction(Firstname=\"Igor\", Lastname=\"Nakrychsky\", Email=\"novosib@hotmail.com\", Country=\"USA\")\n"
   ]
  },
  {
   "cell_type": "markdown",
   "id": "6d0b5d2f-5cf0-492e-90b8-b33cbcb0c237",
   "metadata": {},
   "source": [
    "## Q3"
   ]
  },
  {
   "cell_type": "code",
   "execution_count": 18,
   "id": "1db16046-5dfd-4ca7-83f0-c57e767a1dc0",
   "metadata": {},
   "outputs": [],
   "source": [
    "mytuple = (\"apple\", \"banana\", \"cherry\")\n",
    "myit = iter(mytuple)"
   ]
  },
  {
   "cell_type": "code",
   "execution_count": 19,
   "id": "c1cc247e-b43e-4ec5-b668-183f81b58308",
   "metadata": {},
   "outputs": [
    {
     "name": "stdout",
     "output_type": "stream",
     "text": [
      "apple\n",
      "banana\n",
      "cherry\n"
     ]
    }
   ],
   "source": [
    "print(next(myit))\n",
    "print(next(myit))\n",
    "print(next(myit))"
   ]
  },
  {
   "cell_type": "code",
   "execution_count": 28,
   "id": "87d8d36b-9a55-4723-8442-1c84c404e9e0",
   "metadata": {},
   "outputs": [],
   "source": [
    "numbers = [2, 4, 6, 8, 10, 12, 14, 16,\n",
    "18, 20]"
   ]
  },
  {
   "cell_type": "code",
   "execution_count": 42,
   "id": "ff754d3a-5a01-42d7-9ce8-f53c2a7fb623",
   "metadata": {},
   "outputs": [],
   "source": [
    "def print_list_items(n, mylist):\n",
    "    counter = 0\n",
    "    for i in range(0,n):\n",
    "        print(mylist[i])"
   ]
  },
  {
   "cell_type": "code",
   "execution_count": 43,
   "id": "d12d6ea1-1bc0-44f8-bc69-08fe4b771e81",
   "metadata": {},
   "outputs": [
    {
     "name": "stdout",
     "output_type": "stream",
     "text": [
      "2\n",
      "4\n",
      "6\n",
      "8\n",
      "10\n"
     ]
    }
   ],
   "source": [
    "print_list_items(5, numbers)"
   ]
  },
  {
   "cell_type": "markdown",
   "id": "7ab248cc-a181-4ba7-801d-3a77b726609c",
   "metadata": {},
   "source": [
    "## Q4"
   ]
  },
  {
   "cell_type": "code",
   "execution_count": 52,
   "id": "33138e0b-0857-47f9-901e-00923e281293",
   "metadata": {},
   "outputs": [],
   "source": [
    "def odd_number_generator(b):\n",
    "    n=1\n",
    "    for i in range(0,b):\n",
    "        yield n\n",
    "        n+=2\n",
    "        "
   ]
  },
  {
   "cell_type": "code",
   "execution_count": 53,
   "id": "228c9092-c5a4-4096-b53b-cc69c867acee",
   "metadata": {},
   "outputs": [
    {
     "data": {
      "text/plain": [
       "<generator object odd_number_generator at 0x7fa0fc63aea0>"
      ]
     },
     "execution_count": 53,
     "metadata": {},
     "output_type": "execute_result"
    }
   ],
   "source": [
    "odd_number_generator(5)"
   ]
  },
  {
   "cell_type": "code",
   "execution_count": 54,
   "id": "ddd6632d-d59a-42ae-9332-eb28942af8bb",
   "metadata": {},
   "outputs": [
    {
     "name": "stdout",
     "output_type": "stream",
     "text": [
      "1\n",
      "3\n",
      "5\n",
      "7\n",
      "9\n"
     ]
    }
   ],
   "source": [
    "for i in odd_number_generator(5):\n",
    "    print (i)"
   ]
  },
  {
   "cell_type": "markdown",
   "id": "148d16be-90f6-4b8b-b579-ba22205685f5",
   "metadata": {},
   "source": [
    "## Q5"
   ]
  },
  {
   "cell_type": "code",
   "execution_count": 80,
   "id": "a3c97edb-4d78-4c7e-a912-319f3316b7fc",
   "metadata": {
    "tags": []
   },
   "outputs": [],
   "source": [
    "def prime_number_generator():\n",
    "    for i in range(2,1000):\n",
    "        for j in range(2,i+1):\n",
    "            if i % j == 0 and i!=j:\n",
    "                break\n",
    "            elif i == j:\n",
    "                yield i "
   ]
  },
  {
   "cell_type": "code",
   "execution_count": 84,
   "id": "6f810104-a062-458b-baff-5681f8f4fd8b",
   "metadata": {},
   "outputs": [
    {
     "name": "stdout",
     "output_type": "stream",
     "text": [
      "2\n",
      "3\n",
      "5\n",
      "7\n",
      "11\n",
      "13\n",
      "17\n",
      "19\n",
      "23\n",
      "29\n",
      "31\n",
      "37\n",
      "41\n",
      "43\n",
      "47\n",
      "53\n",
      "59\n",
      "61\n",
      "67\n",
      "71\n"
     ]
    }
   ],
   "source": [
    "count = 0\n",
    "for i in prime_number_generator():\n",
    "    print(i)\n",
    "    count = count + 1\n",
    "    if count > 19:\n",
    "        break"
   ]
  },
  {
   "cell_type": "code",
   "execution_count": null,
   "id": "1f688b76-f290-4423-b9ed-930ef52a1173",
   "metadata": {},
   "outputs": [],
   "source": []
  },
  {
   "cell_type": "code",
   "execution_count": null,
   "id": "7d64557a-b572-4cac-8734-f3e08c3bd431",
   "metadata": {},
   "outputs": [],
   "source": []
  }
 ],
 "metadata": {
  "kernelspec": {
   "display_name": "Python 3 (ipykernel)",
   "language": "python",
   "name": "python3"
  },
  "language_info": {
   "codemirror_mode": {
    "name": "ipython",
    "version": 3
   },
   "file_extension": ".py",
   "mimetype": "text/x-python",
   "name": "python",
   "nbconvert_exporter": "python",
   "pygments_lexer": "ipython3",
   "version": "3.10.8"
  }
 },
 "nbformat": 4,
 "nbformat_minor": 5
}
