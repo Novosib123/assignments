{
 "cells": [
  {
   "cell_type": "markdown",
   "id": "2d34ea6a-1f21-4902-9a3e-9eb985a92b9d",
   "metadata": {},
   "source": [
    "## Q1 "
   ]
  },
  {
   "cell_type": "markdown",
   "id": "788d5e99-976f-4ccb-843f-1fe79c4935ec",
   "metadata": {},
   "source": [
    "Class is a defenition that contains all of the methods and variables. Object is an instance of the class. For example we create class House that contains variable address. An object of the class house with particular address would be an instance of that class. "
   ]
  },
  {
   "cell_type": "markdown",
   "id": "97db31b1-c43b-414c-bfe4-dfd10ad31a0c",
   "metadata": {},
   "source": [
    "## Q2"
   ]
  },
  {
   "cell_type": "markdown",
   "id": "636cd20c-0bc9-4f6c-b1c1-823dd014f9a3",
   "metadata": {},
   "source": [
    "Inheritance, Polymorphism, Encapsulation and Abstraction"
   ]
  },
  {
   "cell_type": "markdown",
   "id": "7f98bd87-e636-4607-8900-bcb4e5327bd3",
   "metadata": {},
   "source": [
    "## Q3"
   ]
  },
  {
   "cell_type": "markdown",
   "id": "f4ce3f7f-4039-4694-a9ea-9e1f49e0739d",
   "metadata": {},
   "source": [
    "__init__() is a constructor. It creates an object with particular properties assigned. \n"
   ]
  },
  {
   "cell_type": "code",
   "execution_count": 5,
   "id": "dca49a4f-4dcc-42bc-b232-74d488cfee58",
   "metadata": {},
   "outputs": [],
   "source": [
    "class house:\n",
    "    def __init__(self, address1, num_rooms1, area1, floors1):\n",
    "        self.address = address1\n",
    "        self.num_rooms = num_rooms1\n",
    "        self.area = area1\n",
    "        self.floors = floors1\n",
    "        "
   ]
  },
  {
   "cell_type": "markdown",
   "id": "5bdf3471-2437-41a4-87d6-f7c09d3daeff",
   "metadata": {},
   "source": [
    "## Q4"
   ]
  },
  {
   "cell_type": "markdown",
   "id": "455d9d74-6799-4f36-99b9-ba8bd12149a0",
   "metadata": {},
   "source": [
    "To identify that this variable or a method belongs to that particular class. "
   ]
  },
  {
   "cell_type": "markdown",
   "id": "e525de24-ab80-4c04-a640-5b1f3b3b0cdd",
   "metadata": {},
   "source": [
    "## Q5"
   ]
  },
  {
   "cell_type": "markdown",
   "id": "419a85b5-046e-400c-952a-945c15c75503",
   "metadata": {},
   "source": [
    "Inheritance is the ability of one class enherit properties of another class. Types of inheritance:\n",
    "Single Inheritance,\n",
    "Multiple Inheritance,\n",
    "Multilevel Inheritance,\n",
    "Hierarchical Inheritance,\n",
    "Hybrid Inheritance"
   ]
  },
  {
   "cell_type": "markdown",
   "id": "7676938b-9f42-459b-aff3-d760ad5d0cce",
   "metadata": {},
   "source": [
    "Single inheritance:\n",
    "Class A --> Class B  "
   ]
  },
  {
   "cell_type": "markdown",
   "id": "42345f7b-7b40-4b74-82bc-ab72d8e4953e",
   "metadata": {},
   "source": [
    "Multiple inheritance\n",
    "Class C inherits from Class A and Class B"
   ]
  },
  {
   "cell_type": "markdown",
   "id": "b0acb2c9-df45-41bd-b38a-c0e6e6a16d51",
   "metadata": {},
   "source": [
    "Multilevel Inheritance: Class C inherits from Class B and Class B inherits from Class A"
   ]
  },
  {
   "cell_type": "markdown",
   "id": "99416e28-60b3-4862-938a-33524a329725",
   "metadata": {},
   "source": [
    "Hierarchical Inheritance: Multiple classes inherit from the same class. "
   ]
  },
  {
   "cell_type": "markdown",
   "id": "3588a8f8-7e2e-4574-837d-d6e5cf8efaad",
   "metadata": {},
   "source": [
    "Hybrid Inheritance: when multiple types of inheritance is used in the code. "
   ]
  },
  {
   "cell_type": "code",
   "execution_count": null,
   "id": "71e4e9cf-e64d-4d58-8d87-ee5f917362b4",
   "metadata": {},
   "outputs": [],
   "source": []
  }
 ],
 "metadata": {
  "kernelspec": {
   "display_name": "Python 3 (ipykernel)",
   "language": "python",
   "name": "python3"
  },
  "language_info": {
   "codemirror_mode": {
    "name": "ipython",
    "version": 3
   },
   "file_extension": ".py",
   "mimetype": "text/x-python",
   "name": "python",
   "nbconvert_exporter": "python",
   "pygments_lexer": "ipython3",
   "version": "3.10.8"
  }
 },
 "nbformat": 4,
 "nbformat_minor": 5
}
