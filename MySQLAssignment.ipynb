{
 "cells": [
  {
   "cell_type": "markdown",
   "id": "9685d6c7-0297-4fc5-918b-af088c747f5e",
   "metadata": {},
   "source": [
    "## Q1"
   ]
  },
  {
   "cell_type": "markdown",
   "id": "c7d7052f-841b-406e-a3e3-8ef34d87dc07",
   "metadata": {},
   "source": [
    "# SQL database are vertically scallable and use SQL language. NoSQL are vertically scallable. NoSQL is better for unstructured data like documents or JSON. "
   ]
  },
  {
   "cell_type": "markdown",
   "id": "b263cc18-24c0-438a-b237-c3dceed950d4",
   "metadata": {},
   "source": [
    "## Q2"
   ]
  },
  {
   "cell_type": "markdown",
   "id": "50f528d2-9811-4b92-b29f-6c77a4788a4f",
   "metadata": {},
   "source": [
    "DDL stands for Data Definition Language. With the help of which you can create and delete a table. \n",
    "CREATE: Is used to create a database or a table within the database\n",
    "CREATE DATABASE if not exists test1 \n",
    "CREATE TABLE if not exists test1.test_table (c1 INT, c2 VARCHAR(50), c3 INT, c4 FLOAT, c5 DATETIME\n",
    "\n",
    "DROP: Remove table from database\n",
    "DROP TABLE table_name;\n",
    "\n",
    "ALTER: The ALTER TABLE statement is used to add, delete, or modify columns in an existing table. \n",
    "Add new column: \n",
    "ALTER TABLE Customers\n",
    "ADD Email varchar(255);\n",
    "\n",
    "Delete column:\n",
    "ALTER TABLE Customers\n",
    "DROP COLUMN Email;\n",
    "\n",
    "Modify existing column:\n",
    "ALTER TABLE Student MODIFY COURSE varchar(20);\n",
    "\n",
    "TRUNCATE: Deletes row from the table but keeps the table itself. \n",
    "TRUNCATE TABLE Employees;"
   ]
  },
  {
   "cell_type": "markdown",
   "id": "e42e9495-15f9-4940-9f7b-d852bc940fb3",
   "metadata": {},
   "source": [
    "## Q3"
   ]
  },
  {
   "cell_type": "markdown",
   "id": "25ed4475-bb3c-4d90-961c-4c9a57f83574",
   "metadata": {},
   "source": [
    "DML - Data modification language. \n",
    "\n",
    "INSERT: Inserts a row into a table\n",
    "mycursor = mydb.cursor()\n",
    "now = datetime.datetime.now()\n",
    "mycursor.execute(f\"insert into test1.test_table values(1, 'mytest', 5, 25.5, '{now}')\")\n",
    "mydb.commit()\n",
    "\n",
    "UPDATE: updates data for one or more rows in a table\n",
    "UPDATE test1.test_table\n",
    "SET c1 = 2, c2 = 'mytest1', c3 = 6, c4 = 55.5, c5 = now()\n",
    "WHERE c1 = 1\n",
    "\n",
    "DELETE - deletes one or more rows from the table\n",
    "DELETE from test1.test_table\n",
    "WHERE c1 = 2"
   ]
  },
  {
   "cell_type": "markdown",
   "id": "b5409246-8fa4-46de-83f2-9368c3baffd7",
   "metadata": {},
   "source": [
    "## Q4"
   ]
  },
  {
   "cell_type": "markdown",
   "id": "9cb9acca-d7c3-4862-8d5b-e0bba2313823",
   "metadata": {},
   "source": [
    "DQL: Data Query Language. Is used to return data from database that saticfies specific conditions described in a query. \n",
    "Select * from test1.test_table WHERE c1 = 2"
   ]
  },
  {
   "cell_type": "markdown",
   "id": "f844d813-4d4e-41c1-b680-0ab3a5948813",
   "metadata": {},
   "source": [
    "## Q5"
   ]
  },
  {
   "cell_type": "markdown",
   "id": "de493589-f588-496c-ad82-2b3781a2023d",
   "metadata": {},
   "source": [
    "Primary key is particular column that uniquely identifies a row in that column. Foreign key is column in a table that represent primary key from a different table that is used to join two tables together."
   ]
  },
  {
   "cell_type": "markdown",
   "id": "0322d448-c180-4ea1-9f7b-925e8d863688",
   "metadata": {},
   "source": [
    "## Q6"
   ]
  },
  {
   "cell_type": "markdown",
   "id": "787e7d07-3e39-4364-8928-b109b2efd6d9",
   "metadata": {},
   "source": [
    "import mysql.connector\n",
    "\n",
    "mydb = mysql.connector.connect(\n",
    "  host=\"localhost\",\n",
    "  user=\"abc\",\n",
    "  password=\"password\"\n",
    ")\n",
    "\n",
    "mycursor = mydb.cursor()\n",
    "mycursor.execute(\"SELECT * FROM test1.test_table\")\n",
    "my_data = mycursor.fetchall()\n",
    "print(my_data[0])\n",
    "mydb.close()\n",
    "\n",
    "cursor() is an object that allows to execute commands on a database\n",
    "execute() method executes query on a database"
   ]
  },
  {
   "cell_type": "markdown",
   "id": "c14e331b-9c20-4afd-ba6a-a7e041077b1f",
   "metadata": {},
   "source": [
    "## Q7 "
   ]
  },
  {
   "cell_type": "markdown",
   "id": "091125d6-42bf-405e-b1c1-b002b3e54d54",
   "metadata": {},
   "source": [
    "Step 1: Getting Data (From, Join) FROM citizen. ...\n",
    "Step 2: Row Filter (Where) After getting qualified rows, it is passed on to the Where clause. ...\n",
    "Step 3: Grouping (Group by) ...\n",
    "Step 4: Group Filter (Having) ...\n",
    "Step 5: Return Expressions (Select) ...\n",
    "Step 6: Order (Order by) and Paging (Limit / Offs"
   ]
  },
  {
   "cell_type": "code",
   "execution_count": null,
   "id": "d05aa832-0aac-4448-abc7-de124ab29d78",
   "metadata": {},
   "outputs": [],
   "source": []
  }
 ],
 "metadata": {
  "kernelspec": {
   "display_name": "Python 3 (ipykernel)",
   "language": "python",
   "name": "python3"
  },
  "language_info": {
   "codemirror_mode": {
    "name": "ipython",
    "version": 3
   },
   "file_extension": ".py",
   "mimetype": "text/x-python",
   "name": "python",
   "nbconvert_exporter": "python",
   "pygments_lexer": "ipython3",
   "version": "3.10.8"
  }
 },
 "nbformat": 4,
 "nbformat_minor": 5
}
